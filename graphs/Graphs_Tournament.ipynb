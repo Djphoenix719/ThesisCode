{
 "cells": [
  {
   "cell_type": "code",
   "execution_count": 1,
   "metadata": {
    "collapsed": true
   },
   "outputs": [
    {
     "name": "stdout",
     "output_type": "stream",
     "text": [
      "WARNING:tensorflow:From d:\\nas-bench\\venv\\lib\\site-packages\\nasbench\\lib\\training_time.py:130: The name tf.train.SessionRunHook is deprecated. Please use tf.estimator.SessionRunHook instead.\n",
      "\n",
      "WARNING:tensorflow:From d:\\nas-bench\\venv\\lib\\site-packages\\nasbench\\lib\\training_time.py:174: The name tf.train.CheckpointSaverListener is deprecated. Please use tf.estimator.CheckpointSaverListener instead.\n",
      "\n",
      "WARNING:tensorflow:From d:\\nas-bench\\venv\\lib\\site-packages\\nasbench\\lib\\evaluate.py:30: The name tf.train.NanLossDuringTrainingError is deprecated. Please use tf.estimator.NanLossDuringTrainingError instead.\n",
      "\n",
      "Loading dataset from file... This may take a few minutes...\n",
      "WARNING:tensorflow:From d:\\nas-bench\\venv\\lib\\site-packages\\nasbench\\api.py:146: tf_record_iterator (from tensorflow.python.lib.io.tf_record) is deprecated and will be removed in a future version.\n",
      "Instructions for updating:\n",
      "Use eager execution and: \n",
      "`tf.data.TFRecordDataset(path)`\n",
      "Loaded dataset in 36 seconds\n"
     ]
    }
   ],
   "source": [
    "from datetime import timedelta\n",
    "from typing import Tuple\n",
    "import pandas as pd\n",
    "import numpy as np\n",
    "import os, json\n",
    "from trials.Utilities import get_spec\n",
    "from typing import List\n",
    "from functools import reduce\n",
    "import plotly.graph_objs as graph_objs\n",
    "import matplotlib.cm as cm\n",
    "from scipy.spatial import Delaunay\n",
    "import scipy.linalg as linalg\n",
    "import time"
   ]
  },
  {
   "cell_type": "code",
   "execution_count": 2,
   "outputs": [],
   "source": [
    "def load_epoch_data(trial: str, epoch: str) -> np.array:\n",
    "    heredity_path = os.path.join('D://', 'Graph Data', trial, epoch, 'Heredity')\n",
    "\n",
    "    data: List[float] = []\n",
    "    for file_name in os.listdir(heredity_path):\n",
    "        file_path = os.path.join(heredity_path, file_name)\n",
    "\n",
    "        hashes = json.load(open(file_path, 'r', encoding='utf8'))\n",
    "        specs = [get_spec(hsh, stop_halfway=True) for hsh in hashes]\n",
    "        scores = [ind.get_data().total_accuracy for ind in specs]\n",
    "\n",
    "        data.append(np.median(scores))\n",
    "\n",
    "    return np.array(data)\n",
    "\n",
    "\n",
    "def value_to_color(z_val: np.ndarray, color_map, v_min, v_max):\n",
    "    # map the normalized value zval to a corresponding color in the colormap\n",
    "\n",
    "    if v_min > v_max:\n",
    "        raise ValueError(\"VMax must be > VMin\")\n",
    "    t = (z_val - v_min) / float((v_max - v_min))  # normalize val\n",
    "\n",
    "    R, G, B, alpha = color_map(t)\n",
    "\n",
    "    return f\"rgb({int(R * 255 + 0.5):d},{int(G * 255 + 0.5):d},{int(B * 255 + 0.5):d})\"\n",
    "\n",
    "\n",
    "def tri_indices(simplices: np.ndarray):\n",
    "    # simplices is a numpy array defining the simplices of the triangularization\n",
    "    # returns the lists of indices i, j, k\n",
    "    return ([triplet[c] for triplet in simplices] for c in range(3))\n",
    "\n",
    "\n",
    "def plotly_trisurf(\n",
    "    x: List[float],\n",
    "    y: List[float],\n",
    "    z: List[float],\n",
    "    simplices: np.ndarray,\n",
    "    color_map=cm.RdBu,\n",
    "    plot_edges=None,\n",
    "):\n",
    "    # x, y, z are lists of coordinates of the triangle vertices\n",
    "    # simplices are the simplices that define the triangularization;\n",
    "    # simplices  is a numpy array of shape (no_triangles, 3)\n",
    "    # insert here the  type check for input data\n",
    "\n",
    "    points3D = np.vstack((x, y, z)).T\n",
    "\n",
    "    # vertices of the surface triangles\n",
    "    tri_vertices = map(lambda index: points3D[index], simplices)\n",
    "\n",
    "    # mean values of z-coordinates of\n",
    "    z_mean = [np.mean(tri[:, 2]) for tri in tri_vertices]\n",
    "    # triangle vertices\n",
    "    min_z_mean = np.min(z_mean)\n",
    "    max_z_mean = np.max(z_mean)\n",
    "    face_color = [value_to_color(zz, color_map, min_z_mean, max_z_mean) for zz in z_mean]\n",
    "\n",
    "    I, J, K = tri_indices(simplices)\n",
    "    triangles = graph_objs.Mesh3d(\n",
    "        x=x,\n",
    "        y=y,\n",
    "        z=z,\n",
    "        facecolor=face_color,\n",
    "        i=I,\n",
    "        j=J,\n",
    "        k=K,\n",
    "    )\n",
    "\n",
    "    if plot_edges is None:  # the triangle sides are not plotted\n",
    "        return [triangles]\n",
    "    else:\n",
    "        # define the lists Xe, Ye, Ze, of x, y, resp z coordinates of edge end points for each triangle\n",
    "        # None separates data corresponding to two consecutive triangles\n",
    "        lists_coord = [\n",
    "            [[T[k % 3][c] for k in range(4)] + [None] for T in tri_vertices]\n",
    "            for c in range(3)\n",
    "        ]\n",
    "        Xe, Ye, Ze = [reduce(lambda x, y: x + y, lists_coord[k]) for k in range(3)]\n",
    "\n",
    "        # define the lines to be plotted\n",
    "        lines = graph_objs.Scatter3d(\n",
    "            x=Xe, y=Ye, z=Ze, mode=\"lines\", line=dict(color=\"rgb(50,50,50)\", width=1.5)\n",
    "        )\n",
    "        return [triangles, lines]\n",
    "\n",
    "\n",
    "def fit_surface(x: np.ndarray, y: np.ndarray, z: np.ndarray, resolution: int = 5) -> Tuple[np.ndarray, np.ndarray, np.ndarray]:\n",
    "    assert resolution >= 2\n",
    "\n",
    "    fit_data = np.c_[x, y, z]\n",
    "    mn = np.min(fit_data, axis=0)\n",
    "    mx = np.max(fit_data, axis=0)\n",
    "\n",
    "    X, Y = np.meshgrid(np.linspace(mn[0], mx[0], resolution), np.linspace(mn[1], mx[1], resolution))\n",
    "\n",
    "    A = np.c_[fit_data[:,0], fit_data[:,1], np.ones(fit_data.shape[0])]\n",
    "    C, cx, cy, cz = linalg.lstsq(A, fit_data[:,2])\n",
    "\n",
    "    Z = C[0]*X + C[1]*Y + C[2]\n",
    "\n",
    "    return X, Y, Z\n",
    "\n"
   ],
   "metadata": {
    "collapsed": false,
    "pycharm": {
     "name": "#%%\n"
    }
   }
  },
  {
   "cell_type": "code",
   "execution_count": 3,
   "outputs": [],
   "source": [
    "last_check = time.time()\n",
    "last_missing = 0"
   ],
   "metadata": {
    "collapsed": false,
    "pycharm": {
     "name": "#%%\n"
    }
   }
  },
  {
   "cell_type": "code",
   "execution_count": 4,
   "outputs": [],
   "source": [
    "curr_missing = 0\n",
    "\n",
    "N_POP = 100\n",
    "N_DROP = 5\n",
    "STOP_HALFWAY = True\n",
    "\n",
    "data_median = dict()\n",
    "data_average = dict()\n",
    "data_std = dict()\n",
    "\n",
    "for tournament_size in range(5, N_POP - N_DROP):\n",
    "    row_median = dict()\n",
    "    row_average = dict()\n",
    "    row_std = dict()\n",
    "    col_key = f'R={tournament_size}'\n",
    "\n",
    "    for best_size in range(5, N_POP):\n",
    "        if best_size >= tournament_size:\n",
    "            continue\n",
    "\n",
    "        n_random = int(tournament_size)\n",
    "        n_select = int(best_size)\n",
    "        n_remain = N_POP - n_select\n",
    "\n",
    "        row_key = f'Top {best_size}'\n",
    "\n",
    "        if n_remain < 0:\n",
    "            row_median[row_key] = float('NaN')\n",
    "            row_average[row_key] = float('NaN')\n",
    "            row_std[row_key] = float('NaN')\n",
    "            continue\n",
    "\n",
    "        trial_name = f\"Select {best_size} Tournament n={int(tournament_size)}% + Drop 5 Worst\"\n",
    "        heredity_path = os.path.join('D://', 'Graph Data', trial_name, 'Epoch 1', 'Heredity')\n",
    "        if not os.path.exists(heredity_path):\n",
    "            curr_missing += 1\n",
    "            continue\n",
    "\n",
    "        generations = os.listdir(heredity_path)\n",
    "\n",
    "        file_name = generations[-1]\n",
    "        file_path = os.path.join(heredity_path, file_name)\n",
    "\n",
    "        hashes = json.load(open(file_path, 'r', encoding='utf8'))\n",
    "        specs_half = [get_spec(hsh, stop_halfway=True) for hsh in hashes]\n",
    "        scores_half = [ind.get_data().total_accuracy for ind in specs_half]\n",
    "\n",
    "        # specs_full = [get_spec(hsh, stop_halfway=True) for hsh in hashes]\n",
    "        # scores_full = [ind.get_data().total_accuracy for ind in specs_full]\n",
    "\n",
    "        row_median[row_key] = np.median(scores_half)\n",
    "        row_average[row_key] = np.average(scores_half)\n",
    "        row_std[row_key] = np.std(scores_half)\n",
    "\n",
    "    data_median[col_key] = row_median\n",
    "    data_average[col_key] = row_average\n",
    "    data_std[col_key] = row_std\n"
   ],
   "metadata": {
    "collapsed": false,
    "pycharm": {
     "name": "#%%\n"
    }
   }
  },
  {
   "cell_type": "code",
   "execution_count": 5,
   "outputs": [],
   "source": [
    "# time_since_check = time.time() - last_check\n",
    "# new_trials = last_missing - curr_missing\n",
    "# secs_per_model = new_trials/time_since_check\n",
    "# secs_till_done = curr_missing/secs_per_model\n",
    "# duration = timedelta(seconds=secs_till_done)\n",
    "# print(f'Done loading data, {curr_missing} trials still missing')\n",
    "# print(f'{new_trials} models since last check, {new_trials/time_since_check:0.2f} models per minute, {duration} till completion')\n",
    "# last_missing = curr_missing\n",
    "# last_check = time.time()"
   ],
   "metadata": {
    "collapsed": false,
    "pycharm": {
     "name": "#%%\n"
    }
   }
  },
  {
   "cell_type": "code",
   "execution_count": 16,
   "outputs": [],
   "source": [
    "def create_comparison_graph(\n",
    "        comparison_from: pd.DataFrame,\n",
    "        comparison_to: str,\n",
    "        color_scale\n",
    "):\n",
    "    baseline_score = load_epoch_data(comparison_to, 'Epoch 1')[-1]\n",
    "    comparison_from = comparison_from - baseline_score\n",
    "    comparison_from = comparison_from * 100\n",
    "\n",
    "    ys=[] # top X\n",
    "    xs=[] # tournament size\n",
    "    zs=[] # value\n",
    "\n",
    "    for r in range(1, 100):\n",
    "        for t in range(1, 100):\n",
    "            try:\n",
    "                value = comparison_from.loc[f'Top {t}', f'R={r}']\n",
    "            except KeyError:\n",
    "                continue\n",
    "\n",
    "            if np.isnan(value):\n",
    "                continue\n",
    "            if value == 0:\n",
    "                continue\n",
    "            ys.append(t)\n",
    "            xs.append(r)\n",
    "            zs.append(value)\n",
    "\n",
    "    triangles = Delaunay(np.vstack([xs, ys]).T)\n",
    "    triangles = plotly_trisurf(xs, ys, zs, triangles.simplices, color_map=cm.RdBu)\n",
    "    base_axis = dict(\n",
    "        showbackground=True,\n",
    "        backgroundcolor=\"rgb(230, 230,230)\",\n",
    "        gridcolor=\"rgb(255, 255, 255)\",\n",
    "        zerolinecolor=\"rgb(255, 255, 255)\"\n",
    "    )\n",
    "    layout = graph_objs.Layout(\n",
    "        width=900,\n",
    "        height=500,\n",
    "        margin=dict(l=0, r=0, b=0, t=0),\n",
    "        scene=dict(\n",
    "            xaxis=dict(**base_axis, title='Tournament Size'),\n",
    "            yaxis=dict(**base_axis, title='Top N'),\n",
    "            zaxis=dict(**base_axis, title='Accuracy vs. Greedy (%)'),\n",
    "            aspectratio=dict(x=1, y=1, z=0.5),\n",
    "        )\n",
    "    )\n",
    "    figure = graph_objs.Figure(layout=layout, data=triangles)\n",
    "    # figure.add_surface(z=[baseline_score, baseline_score])\n",
    "    # figure.add_surface(x=[0, 100], z=[0, 100], y=[baseline_score*100, baseline_score*100])\n",
    "    tx, ty, tz = fit_surface(xs, ys, zs)\n",
    "    figure.add_surface(x=tx, y=ty, z=tz, colorscale=color_scale, opacity=0.25)\n",
    "\n",
    "    return figure\n"
   ],
   "metadata": {
    "collapsed": false,
    "pycharm": {
     "name": "#%%\n"
    }
   }
  },
  {
   "cell_type": "code",
   "execution_count": 17,
   "outputs": [
    {
     "data": {
      "application/vnd.plotly.v1+json": {
       "config": {
        "plotlyServerURL": "https://plot.ly"
       },
       "data": [
        {
         "facecolor": [
          "rgb(177,213,231)",
          "rgb(109,2,32)",
          "rgb(251,230,218)",
          "rgb(246,177,145)",
          "rgb(250,232,222)",
          "rgb(252,215,194)",
          "rgb(249,239,233)",
          "rgb(225,120,96)",
          "rgb(174,23,42)",
          "rgb(244,166,131)",
          "rgb(226,123,98)",
          "rgb(174,23,42)",
          "rgb(177,24,43)",
          "rgb(245,170,137)",
          "rgb(220,110,87)",
          "rgb(239,153,121)",
          "rgb(216,233,241)",
          "rgb(213,231,241)",
          "rgb(167,208,228)",
          "rgb(197,223,236)",
          "rgb(221,235,242)",
          "rgb(230,239,244)",
          "rgb(247,245,244)",
          "rgb(252,226,210)",
          "rgb(218,233,242)",
          "rgb(225,237,243)",
          "rgb(192,220,235)",
          "rgb(157,203,225)",
          "rgb(79,155,199)",
          "rgb(82,157,200)",
          "rgb(113,176,211)",
          "rgb(165,206,227)",
          "rgb(249,237,229)",
          "rgb(250,233,223)",
          "rgb(219,234,242)",
          "rgb(230,239,244)",
          "rgb(249,237,229)",
          "rgb(249,238,231)",
          "rgb(215,232,241)",
          "rgb(192,220,235)",
          "rgb(76,153,198)",
          "rgb(169,209,229)",
          "rgb(82,157,200)",
          "rgb(5,48,97)",
          "rgb(66,145,194)",
          "rgb(179,214,232)",
          "rgb(249,235,227)",
          "rgb(177,213,231)",
          "rgb(230,239,244)",
          "rgb(172,210,229)",
          "rgb(184,216,233)",
          "rgb(194,221,236)",
          "rgb(169,209,229)",
          "rgb(104,171,208)",
          "rgb(107,172,209)",
          "rgb(155,201,224)",
          "rgb(249,237,229)",
          "rgb(229,131,104)",
          "rgb(250,234,225)",
          "rgb(250,232,222)",
          "rgb(249,235,227)",
          "rgb(199,224,237)",
          "rgb(60,138,190)",
          "rgb(44,117,180)",
          "rgb(245,246,247)",
          "rgb(252,226,210)",
          "rgb(117,178,212)",
          "rgb(135,190,218)",
          "rgb(24,84,147)",
          "rgb(79,155,199)",
          "rgb(64,143,193)",
          "rgb(209,229,240)",
          "rgb(113,176,211)",
          "rgb(230,239,244)",
          "rgb(250,234,225)",
          "rgb(245,170,137)",
          "rgb(192,220,235)",
          "rgb(162,205,227)",
          "rgb(213,231,241)",
          "rgb(216,233,241)",
          "rgb(92,163,203)",
          "rgb(79,155,199)",
          "rgb(138,192,219)",
          "rgb(162,205,227)",
          "rgb(129,186,216)",
          "rgb(207,228,239)",
          "rgb(246,177,145)",
          "rgb(252,215,194)",
          "rgb(232,137,108)",
          "rgb(228,238,244)",
          "rgb(227,237,243)",
          "rgb(252,211,188)",
          "rgb(250,233,223)",
          "rgb(250,232,222)",
          "rgb(248,244,242)",
          "rgb(252,226,210)",
          "rgb(167,208,228)",
          "rgb(132,188,217)",
          "rgb(240,244,246)",
          "rgb(189,219,234)",
          "rgb(243,245,246)",
          "rgb(246,179,148)",
          "rgb(249,238,231)",
          "rgb(229,131,104)",
          "rgb(251,206,183)",
          "rgb(251,208,185)",
          "rgb(251,228,214)",
          "rgb(250,234,225)",
          "rgb(247,183,153)",
          "rgb(191,51,56)",
          "rgb(249,237,229)",
          "rgb(216,233,241)",
          "rgb(167,208,228)",
          "rgb(248,241,237)",
          "rgb(212,230,241)",
          "rgb(246,177,145)",
          "rgb(218,233,242)",
          "rgb(247,181,150)",
          "rgb(200,68,64)",
          "rgb(245,168,134)",
          "rgb(103,0,31)",
          "rgb(240,156,123)",
          "rgb(201,71,65)",
          "rgb(240,156,123)",
          "rgb(235,145,114)",
          "rgb(241,158,125)",
          "rgb(234,142,112)",
          "rgb(249,196,169)",
          "rgb(203,73,66)",
          "rgb(206,79,69)",
          "rgb(240,156,123)",
          "rgb(251,228,214)",
          "rgb(251,228,214)",
          "rgb(222,115,92)",
          "rgb(218,233,242)",
          "rgb(251,228,214)",
          "rgb(248,189,161)",
          "rgb(229,131,104)",
          "rgb(249,240,235)",
          "rgb(250,200,175)",
          "rgb(250,234,225)",
          "rgb(218,233,242)",
          "rgb(63,142,192)",
          "rgb(120,180,213)",
          "rgb(199,224,237)",
          "rgb(62,140,191)",
          "rgb(207,228,239)",
          "rgb(184,216,233)",
          "rgb(67,147,195)",
          "rgb(160,204,226)",
          "rgb(157,203,225)",
          "rgb(155,201,224)",
          "rgb(165,206,227)",
          "rgb(123,182,214)",
          "rgb(138,192,219)",
          "rgb(70,149,196)",
          "rgb(129,186,216)",
          "rgb(82,157,200)",
          "rgb(182,215,232)",
          "rgb(192,220,235)",
          "rgb(177,213,231)",
          "rgb(210,230,240)",
          "rgb(141,194,220)",
          "rgb(54,129,186)",
          "rgb(210,88,73)",
          "rgb(196,59,60)",
          "rgb(194,56,58)",
          "rgb(216,101,81)",
          "rgb(230,134,106)",
          "rgb(247,185,156)",
          "rgb(197,62,61)",
          "rgb(194,56,58)",
          "rgb(245,168,134)",
          "rgb(227,126,100)",
          "rgb(228,128,102)",
          "rgb(246,247,247)",
          "rgb(252,226,210)",
          "rgb(245,170,137)",
          "rgb(220,110,87)",
          "rgb(247,181,150)",
          "rgb(245,246,247)",
          "rgb(251,227,212)",
          "rgb(16,69,126)",
          "rgb(36,106,174)",
          "rgb(218,233,242)",
          "rgb(215,232,241)",
          "rgb(157,203,225)",
          "rgb(194,221,236)",
          "rgb(248,243,240)",
          "rgb(252,223,207)",
          "rgb(248,243,240)",
          "rgb(253,217,196)",
          "rgb(252,211,188)",
          "rgb(248,189,161)",
          "rgb(219,107,85)",
          "rgb(193,54,57)",
          "rgb(225,237,243)",
          "rgb(113,176,211)",
          "rgb(177,213,231)",
          "rgb(215,232,241)",
          "rgb(247,185,156)",
          "rgb(249,237,229)",
          "rgb(224,236,243)",
          "rgb(248,243,240)",
          "rgb(251,229,216)",
          "rgb(210,230,240)",
          "rgb(229,131,104)",
          "rgb(247,185,156)",
          "rgb(209,229,240)",
          "rgb(253,219,199)",
          "rgb(248,241,237)",
          "rgb(225,120,96)",
          "rgb(248,241,237)",
          "rgb(249,239,233)",
          "rgb(240,156,123)",
          "rgb(250,232,222)",
          "rgb(110,174,210)",
          "rgb(167,208,228)",
          "rgb(54,129,186)",
          "rgb(129,186,216)",
          "rgb(237,242,245)",
          "rgb(253,219,199)",
          "rgb(251,204,180)",
          "rgb(246,177,145)",
          "rgb(221,235,242)",
          "rgb(234,241,245)",
          "rgb(245,168,134)",
          "rgb(222,115,92)",
          "rgb(241,158,125)",
          "rgb(215,99,79)",
          "rgb(235,145,114)",
          "rgb(222,115,92)",
          "rgb(210,230,240)",
          "rgb(82,157,200)",
          "rgb(172,210,229)",
          "rgb(222,235,242)",
          "rgb(233,240,244)",
          "rgb(236,242,245)",
          "rgb(252,211,188)",
          "rgb(249,235,227)",
          "rgb(248,241,237)",
          "rgb(249,238,231)",
          "rgb(253,219,199)",
          "rgb(250,200,175)",
          "rgb(169,209,229)",
          "rgb(172,210,229)",
          "rgb(202,225,238)",
          "rgb(234,241,245)",
          "rgb(229,131,104)",
          "rgb(200,68,64)",
          "rgb(180,28,45)",
          "rgb(225,120,96)",
          "rgb(247,246,246)",
          "rgb(252,215,194)",
          "rgb(249,194,167)",
          "rgb(239,153,121)"
         ],
         "i": [
          1,
          135,
          2,
          8,
          9,
          19,
          20,
          34,
          35,
          53,
          134,
          104,
          54,
          76,
          103,
          77,
          137,
          120,
          4,
          1,
          6,
          4,
          8,
          4,
          11,
          8,
          6,
          11,
          15,
          11,
          17,
          11,
          13,
          8,
          17,
          13,
          19,
          13,
          106,
          120,
          106,
          91,
          79,
          91,
          79,
          66,
          24,
          19,
          17,
          24,
          17,
          22,
          15,
          22,
          28,
          22,
          30,
          24,
          30,
          22,
          56,
          66,
          56,
          45,
          37,
          30,
          28,
          37,
          37,
          45,
          47,
          37,
          56,
          47,
          39,
          30,
          47,
          39,
          56,
          68,
          79,
          68,
          47,
          58,
          68,
          58,
          39,
          32,
          32,
          24,
          26,
          19,
          32,
          26,
          34,
          26,
          58,
          49,
          39,
          49,
          41,
          34,
          32,
          41,
          49,
          41,
          51,
          41,
          43,
          34,
          51,
          43,
          53,
          43,
          151,
          134,
          134,
          149,
          134,
          118,
          118,
          132,
          132,
          149,
          132,
          147,
          53,
          64,
          76,
          64,
          132,
          116,
          118,
          103,
          103,
          116,
          76,
          89,
          103,
          89,
          68,
          81,
          79,
          93,
          106,
          93,
          93,
          81,
          106,
          122,
          137,
          122,
          139,
          122,
          93,
          108,
          108,
          122,
          124,
          108,
          139,
          124,
          141,
          124,
          89,
          101,
          101,
          116,
          76,
          87,
          87,
          101,
          130,
          116,
          130,
          147,
          130,
          145,
          114,
          101,
          130,
          114,
          141,
          126,
          143,
          126,
          114,
          128,
          128,
          145,
          143,
          128,
          74,
          87,
          64,
          74,
          53,
          62,
          51,
          62,
          62,
          74,
          51,
          60,
          49,
          60,
          81,
          70,
          58,
          70,
          70,
          60,
          62,
          72,
          72,
          60,
          128,
          112,
          112,
          126,
          114,
          99,
          99,
          87,
          99,
          112,
          72,
          85,
          85,
          74,
          99,
          85,
          110,
          126,
          110,
          124,
          95,
          108,
          81,
          95,
          110,
          95,
          85,
          97,
          97,
          112,
          110,
          97,
          72,
          83,
          70,
          83,
          97,
          83,
          83,
          95
         ],
         "j": [
          2,
          151,
          4,
          9,
          13,
          20,
          26,
          35,
          43,
          54,
          135,
          118,
          64,
          77,
          104,
          89,
          120,
          137,
          1,
          4,
          4,
          6,
          4,
          8,
          8,
          11,
          11,
          6,
          11,
          15,
          11,
          17,
          8,
          13,
          13,
          17,
          13,
          19,
          120,
          106,
          91,
          106,
          91,
          79,
          66,
          79,
          19,
          24,
          24,
          17,
          22,
          17,
          22,
          15,
          22,
          28,
          24,
          30,
          22,
          30,
          66,
          56,
          45,
          56,
          30,
          37,
          37,
          28,
          45,
          37,
          37,
          47,
          47,
          56,
          30,
          39,
          39,
          47,
          68,
          56,
          68,
          79,
          58,
          47,
          58,
          68,
          32,
          39,
          24,
          32,
          19,
          26,
          26,
          32,
          26,
          34,
          49,
          58,
          49,
          39,
          34,
          41,
          41,
          32,
          41,
          49,
          41,
          51,
          34,
          43,
          43,
          51,
          43,
          53,
          134,
          151,
          149,
          134,
          118,
          134,
          132,
          118,
          149,
          132,
          147,
          132,
          64,
          53,
          64,
          76,
          116,
          132,
          103,
          118,
          116,
          103,
          89,
          76,
          89,
          103,
          81,
          68,
          93,
          79,
          93,
          106,
          81,
          93,
          122,
          106,
          122,
          137,
          122,
          139,
          108,
          93,
          122,
          108,
          108,
          124,
          124,
          139,
          124,
          141,
          101,
          89,
          116,
          101,
          87,
          76,
          101,
          87,
          116,
          130,
          147,
          130,
          145,
          130,
          101,
          114,
          114,
          130,
          126,
          141,
          126,
          143,
          128,
          114,
          145,
          128,
          128,
          143,
          87,
          74,
          74,
          64,
          62,
          53,
          62,
          51,
          74,
          62,
          60,
          51,
          60,
          49,
          70,
          81,
          70,
          58,
          60,
          70,
          72,
          62,
          60,
          72,
          112,
          128,
          126,
          112,
          99,
          114,
          87,
          99,
          112,
          99,
          85,
          72,
          74,
          85,
          85,
          99,
          126,
          110,
          124,
          110,
          108,
          95,
          95,
          81,
          95,
          110,
          97,
          85,
          112,
          97,
          97,
          110,
          83,
          72,
          83,
          70,
          83,
          97,
          95,
          83
         ],
         "k": [
          0,
          152,
          5,
          5,
          14,
          14,
          27,
          27,
          44,
          44,
          119,
          119,
          65,
          65,
          90,
          90,
          136,
          121,
          3,
          2,
          3,
          7,
          7,
          5,
          7,
          12,
          7,
          10,
          10,
          16,
          16,
          12,
          12,
          9,
          12,
          18,
          18,
          14,
          121,
          105,
          105,
          92,
          92,
          78,
          78,
          67,
          18,
          25,
          18,
          23,
          23,
          16,
          16,
          21,
          21,
          29,
          23,
          31,
          29,
          23,
          67,
          55,
          55,
          46,
          29,
          38,
          29,
          36,
          46,
          36,
          46,
          38,
          46,
          57,
          38,
          31,
          38,
          48,
          57,
          67,
          67,
          80,
          48,
          57,
          57,
          69,
          31,
          40,
          31,
          25,
          25,
          20,
          25,
          33,
          33,
          27,
          48,
          59,
          40,
          48,
          33,
          42,
          33,
          40,
          40,
          50,
          50,
          42,
          42,
          35,
          42,
          52,
          52,
          44,
          150,
          135,
          150,
          133,
          133,
          119,
          133,
          117,
          133,
          148,
          148,
          131,
          54,
          63,
          75,
          65,
          131,
          117,
          117,
          104,
          117,
          102,
          77,
          88,
          102,
          90,
          69,
          80,
          80,
          92,
          92,
          107,
          80,
          94,
          107,
          121,
          121,
          138,
          138,
          123,
          94,
          107,
          123,
          107,
          123,
          109,
          123,
          140,
          140,
          125,
          102,
          88,
          102,
          115,
          88,
          75,
          88,
          100,
          115,
          131,
          131,
          146,
          146,
          129,
          100,
          115,
          129,
          115,
          125,
          142,
          142,
          127,
          129,
          113,
          129,
          144,
          127,
          144,
          75,
          86,
          75,
          63,
          63,
          52,
          52,
          61,
          63,
          73,
          61,
          50,
          50,
          59,
          69,
          82,
          59,
          69,
          59,
          71,
          73,
          61,
          71,
          61,
          127,
          113,
          127,
          111,
          113,
          100,
          86,
          100,
          113,
          98,
          73,
          84,
          73,
          86,
          98,
          86,
          111,
          125,
          125,
          109,
          109,
          94,
          82,
          94,
          109,
          96,
          98,
          84,
          98,
          111,
          96,
          111,
          84,
          71,
          71,
          82,
          96,
          84,
          96,
          82
         ],
         "type": "mesh3d",
         "x": [
          10,
          15,
          15,
          20,
          20,
          20,
          25,
          25,
          25,
          25,
          30,
          30,
          30,
          30,
          30,
          35,
          35,
          35,
          35,
          35,
          35,
          40,
          40,
          40,
          40,
          40,
          40,
          40,
          45,
          45,
          45,
          45,
          45,
          45,
          45,
          45,
          50,
          50,
          50,
          50,
          50,
          50,
          50,
          50,
          50,
          55,
          55,
          55,
          55,
          55,
          55,
          55,
          55,
          55,
          55,
          60,
          60,
          60,
          60,
          60,
          60,
          60,
          60,
          60,
          60,
          60,
          65,
          65,
          65,
          65,
          65,
          65,
          65,
          65,
          65,
          65,
          65,
          65,
          70,
          70,
          70,
          70,
          70,
          70,
          70,
          70,
          70,
          70,
          70,
          70,
          70,
          75,
          75,
          75,
          75,
          75,
          75,
          75,
          75,
          75,
          75,
          75,
          75,
          75,
          75,
          80,
          80,
          80,
          80,
          80,
          80,
          80,
          80,
          80,
          80,
          80,
          80,
          80,
          80,
          80,
          85,
          85,
          85,
          85,
          85,
          85,
          85,
          85,
          85,
          85,
          85,
          85,
          85,
          85,
          85,
          85,
          90,
          90,
          90,
          90,
          90,
          90,
          90,
          90,
          90,
          90,
          90,
          90,
          90,
          90,
          90,
          90,
          90
         ],
         "y": [
          5,
          5,
          10,
          5,
          10,
          15,
          5,
          10,
          15,
          20,
          5,
          10,
          15,
          20,
          25,
          5,
          10,
          15,
          20,
          25,
          30,
          5,
          10,
          15,
          20,
          25,
          30,
          35,
          5,
          10,
          15,
          20,
          25,
          30,
          35,
          40,
          5,
          10,
          15,
          20,
          25,
          30,
          35,
          40,
          45,
          5,
          10,
          15,
          20,
          25,
          30,
          35,
          40,
          45,
          50,
          5,
          10,
          15,
          20,
          25,
          30,
          35,
          40,
          45,
          50,
          55,
          5,
          10,
          15,
          20,
          25,
          30,
          35,
          40,
          45,
          50,
          55,
          60,
          5,
          10,
          15,
          20,
          25,
          30,
          35,
          40,
          45,
          50,
          55,
          60,
          65,
          5,
          10,
          15,
          20,
          25,
          30,
          35,
          40,
          45,
          50,
          55,
          60,
          65,
          70,
          5,
          10,
          15,
          20,
          25,
          30,
          35,
          40,
          45,
          50,
          55,
          60,
          65,
          70,
          75,
          5,
          10,
          15,
          20,
          25,
          30,
          35,
          40,
          45,
          50,
          55,
          60,
          65,
          70,
          75,
          80,
          5,
          10,
          15,
          20,
          25,
          30,
          35,
          40,
          45,
          50,
          55,
          60,
          65,
          70,
          75,
          80,
          85
         ],
         "z": [
          0.5809321999549866,
          0.6260037422180176,
          0.010016560554504395,
          0.2153456211090088,
          0.4482179880142212,
          -0.205327570438385,
          0.1777857542037964,
          0.115184485912323,
          -0.05759149789810181,
          -0.0250399112701416,
          0.373096764087677,
          0.8163079619407654,
          0.03255307674407959,
          0.380609929561615,
          -0.06760656833648682,
          0.6410270929336548,
          0.3555700182914734,
          0.4557311534881592,
          -0.0926479697227478,
          0.07011443376541138,
          0.0250399112701416,
          0.771234929561615,
          0.282953679561615,
          0.4356980323791504,
          0.3680884838104248,
          0.7887616753578186,
          -0.09014308452606201,
          0.4607394337654114,
          0.6159856915473938,
          0.4807710647583008,
          -0.4381999373435974,
          -0.5458727478981018,
          -0.3981366753578186,
          0.7737383246421814,
          -0.1978158950805664,
          -0.9565293788909912,
          0.3756001591682434,
          0.513322651386261,
          0.10516941547393799,
          0.6460323929786682,
          -0.2078324556350708,
          -0.0075116753578186035,
          -0.0651046633720398,
          0.020031630992889404,
          -0.3981351852416992,
          0.939004123210907,
          1.0717183351516724,
          0.3605782985687256,
          0.320512056350708,
          0.1702725887298584,
          -0.1878008246421814,
          0.4006430506706238,
          0.4757612943649292,
          0.8062899112701416,
          -0.7837548851966858,
          0.8438512682914734,
          0.20533055067062378,
          0.16526579856872559,
          0.8087947964668274,
          0.5433708429336548,
          0.247897207736969,
          0.1602575182914734,
          0.3455549478530884,
          -0.3705918788909912,
          -0.5684077739715576,
          0.0300481915473938,
          0.017528235912322998,
          0.115184485912323,
          0.568409264087677,
          -0.3806069493293762,
          -0.3580719232559204,
          -0.578424334526062,
          -0.12019127607345581,
          0.202825665473938,
          -0.1878008246421814,
          -0.0125199556350708,
          -0.418168306350708,
          0.035056471824645996,
          0.8313298225402832,
          1.0767251253128052,
          0.1827925443649292,
          0.13021081686019897,
          0.007513165473937988,
          -0.338040292263031,
          -0.1577511429786682,
          -0.453224778175354,
          -0.1978158950805664,
          0.20533055067062378,
          -0.3856152296066284,
          0.1978173851966858,
          -0.7086321711540222,
          0.9239792823791504,
          -0.17778277397155762,
          0.6936103105545044,
          0.345553457736969,
          -0.142727792263031,
          0.3405466675758362,
          0.5258411169052124,
          -0.01001507043838501,
          -0.0676080584526062,
          -0.4231765866279602,
          -0.888921320438385,
          -0.2128392457962036,
          0.418168306350708,
          -0.4682496190071106,
          0.3981366753578186,
          0.5358576774597168,
          0.743691623210907,
          0.4557311534881592,
          0.3906264901161194,
          0.1727774739265442,
          -0.020031630992889404,
          0.7512018084526062,
          0.1602575182914734,
          0.5608990788459778,
          0.06510615348815918,
          0.0075116753578186035,
          0.4557296633720398,
          -0.6660640239715576,
          -0.20282268524169922,
          0.185297429561615,
          0.185297429561615,
          0.620993971824646,
          0.470753014087677,
          0.2629205584526062,
          0.8263230323791504,
          0.8163079619407654,
          0.5183294415473938,
          0.3781065344810486,
          0.4281863570213318,
          -0.4306897521018982,
          -0.2203524112701416,
          -0.2453923225402832,
          -0.8638814091682434,
          0.5008012056350708,
          -0.9740576148033142,
          0.1552492380142212,
          0.5634024739265442,
          0.202825665473938,
          0.4957929253578186,
          0.2078324556350708,
          1.0016024112701416,
          0.4932895302772522,
          -0.4231765866279602,
          0.09515434503555298,
          -0.338040292263031,
          0.949019193649292,
          0.0250399112701416,
          -0.3130003809928894,
          0.10516941547393799,
          0.2754420042037964,
          0.1802891492843628,
          -0.9314894676208496
         ]
        },
        {
         "colorscale": [
          [
           0.0,
           "rgb(103,0,31)"
          ],
          [
           0.1,
           "rgb(178,24,43)"
          ],
          [
           0.2,
           "rgb(214,96,77)"
          ],
          [
           0.3,
           "rgb(244,165,130)"
          ],
          [
           0.4,
           "rgb(253,219,199)"
          ],
          [
           0.5,
           "rgb(247,247,247)"
          ],
          [
           0.6,
           "rgb(209,229,240)"
          ],
          [
           0.7,
           "rgb(146,197,222)"
          ],
          [
           0.8,
           "rgb(67,147,195)"
          ],
          [
           0.9,
           "rgb(33,102,172)"
          ],
          [
           1.0,
           "rgb(5,48,97)"
          ]
         ],
         "opacity": 0.25,
         "type": "surface",
         "x": [
          [
           10.0,
           30.0,
           50.0,
           70.0,
           90.0
          ],
          [
           10.0,
           30.0,
           50.0,
           70.0,
           90.0
          ],
          [
           10.0,
           30.0,
           50.0,
           70.0,
           90.0
          ],
          [
           10.0,
           30.0,
           50.0,
           70.0,
           90.0
          ],
          [
           10.0,
           30.0,
           50.0,
           70.0,
           90.0
          ]
         ],
         "y": [
          [
           5.0,
           5.0,
           5.0,
           5.0,
           5.0
          ],
          [
           25.0,
           25.0,
           25.0,
           25.0,
           25.0
          ],
          [
           45.0,
           45.0,
           45.0,
           45.0,
           45.0
          ],
          [
           65.0,
           65.0,
           65.0,
           65.0,
           65.0
          ],
          [
           85.0,
           85.0,
           85.0,
           85.0,
           85.0
          ]
         ],
         "z": [
          [
           0.2271937342866164,
           0.32845734781033,
           0.4297209613340435,
           0.5309845748577571,
           0.6322481883814707
          ],
          [
           -0.031341746126535064,
           0.06992186739717848,
           0.17118548092089203,
           0.27244909444460563,
           0.3737127079683192
          ],
          [
           -0.28987722653968667,
           -0.18861361301597307,
           -0.08734999949225952,
           0.01391361403145408,
           0.11517722755516763
          ],
          [
           -0.5484127069528382,
           -0.4471490934291245,
           -0.3458854799054109,
           -0.24462186638169736,
           -0.14335825285798381
          ],
          [
           -0.8069481873659896,
           -0.7056845738422759,
           -0.6044209603185624,
           -0.5031573467948489,
           -0.40189373327113526
          ]
         ]
        }
       ],
       "layout": {
        "height": 500,
        "margin": {
         "b": 0,
         "l": 0,
         "r": 0,
         "t": 0
        },
        "scene": {
         "aspectratio": {
          "x": 1,
          "y": 1,
          "z": 0.5
         },
         "xaxis": {
          "backgroundcolor": "rgb(230, 230,230)",
          "gridcolor": "rgb(255, 255, 255)",
          "showbackground": true,
          "title": {
           "text": "Tournament Size"
          },
          "zerolinecolor": "rgb(255, 255, 255)"
         },
         "yaxis": {
          "backgroundcolor": "rgb(230, 230,230)",
          "gridcolor": "rgb(255, 255, 255)",
          "showbackground": true,
          "title": {
           "text": "Top N"
          },
          "zerolinecolor": "rgb(255, 255, 255)"
         },
         "zaxis": {
          "backgroundcolor": "rgb(230, 230,230)",
          "gridcolor": "rgb(255, 255, 255)",
          "showbackground": true,
          "title": {
           "text": "Accuracy vs. Greedy (%)"
          },
          "zerolinecolor": "rgb(255, 255, 255)"
         }
        },
        "template": {
         "data": {
          "bar": [
           {
            "error_x": {
             "color": "#2a3f5f"
            },
            "error_y": {
             "color": "#2a3f5f"
            },
            "marker": {
             "line": {
              "color": "#E5ECF6",
              "width": 0.5
             },
             "pattern": {
              "fillmode": "overlay",
              "size": 10,
              "solidity": 0.2
             }
            },
            "type": "bar"
           }
          ],
          "barpolar": [
           {
            "marker": {
             "line": {
              "color": "#E5ECF6",
              "width": 0.5
             },
             "pattern": {
              "fillmode": "overlay",
              "size": 10,
              "solidity": 0.2
             }
            },
            "type": "barpolar"
           }
          ],
          "carpet": [
           {
            "aaxis": {
             "endlinecolor": "#2a3f5f",
             "gridcolor": "white",
             "linecolor": "white",
             "minorgridcolor": "white",
             "startlinecolor": "#2a3f5f"
            },
            "baxis": {
             "endlinecolor": "#2a3f5f",
             "gridcolor": "white",
             "linecolor": "white",
             "minorgridcolor": "white",
             "startlinecolor": "#2a3f5f"
            },
            "type": "carpet"
           }
          ],
          "choropleth": [
           {
            "colorbar": {
             "outlinewidth": 0,
             "ticks": ""
            },
            "type": "choropleth"
           }
          ],
          "contour": [
           {
            "colorbar": {
             "outlinewidth": 0,
             "ticks": ""
            },
            "colorscale": [
             [
              0.0,
              "#0d0887"
             ],
             [
              0.1111111111111111,
              "#46039f"
             ],
             [
              0.2222222222222222,
              "#7201a8"
             ],
             [
              0.3333333333333333,
              "#9c179e"
             ],
             [
              0.4444444444444444,
              "#bd3786"
             ],
             [
              0.5555555555555556,
              "#d8576b"
             ],
             [
              0.6666666666666666,
              "#ed7953"
             ],
             [
              0.7777777777777778,
              "#fb9f3a"
             ],
             [
              0.8888888888888888,
              "#fdca26"
             ],
             [
              1.0,
              "#f0f921"
             ]
            ],
            "type": "contour"
           }
          ],
          "contourcarpet": [
           {
            "colorbar": {
             "outlinewidth": 0,
             "ticks": ""
            },
            "type": "contourcarpet"
           }
          ],
          "heatmap": [
           {
            "colorbar": {
             "outlinewidth": 0,
             "ticks": ""
            },
            "colorscale": [
             [
              0.0,
              "#0d0887"
             ],
             [
              0.1111111111111111,
              "#46039f"
             ],
             [
              0.2222222222222222,
              "#7201a8"
             ],
             [
              0.3333333333333333,
              "#9c179e"
             ],
             [
              0.4444444444444444,
              "#bd3786"
             ],
             [
              0.5555555555555556,
              "#d8576b"
             ],
             [
              0.6666666666666666,
              "#ed7953"
             ],
             [
              0.7777777777777778,
              "#fb9f3a"
             ],
             [
              0.8888888888888888,
              "#fdca26"
             ],
             [
              1.0,
              "#f0f921"
             ]
            ],
            "type": "heatmap"
           }
          ],
          "heatmapgl": [
           {
            "colorbar": {
             "outlinewidth": 0,
             "ticks": ""
            },
            "colorscale": [
             [
              0.0,
              "#0d0887"
             ],
             [
              0.1111111111111111,
              "#46039f"
             ],
             [
              0.2222222222222222,
              "#7201a8"
             ],
             [
              0.3333333333333333,
              "#9c179e"
             ],
             [
              0.4444444444444444,
              "#bd3786"
             ],
             [
              0.5555555555555556,
              "#d8576b"
             ],
             [
              0.6666666666666666,
              "#ed7953"
             ],
             [
              0.7777777777777778,
              "#fb9f3a"
             ],
             [
              0.8888888888888888,
              "#fdca26"
             ],
             [
              1.0,
              "#f0f921"
             ]
            ],
            "type": "heatmapgl"
           }
          ],
          "histogram": [
           {
            "marker": {
             "pattern": {
              "fillmode": "overlay",
              "size": 10,
              "solidity": 0.2
             }
            },
            "type": "histogram"
           }
          ],
          "histogram2d": [
           {
            "colorbar": {
             "outlinewidth": 0,
             "ticks": ""
            },
            "colorscale": [
             [
              0.0,
              "#0d0887"
             ],
             [
              0.1111111111111111,
              "#46039f"
             ],
             [
              0.2222222222222222,
              "#7201a8"
             ],
             [
              0.3333333333333333,
              "#9c179e"
             ],
             [
              0.4444444444444444,
              "#bd3786"
             ],
             [
              0.5555555555555556,
              "#d8576b"
             ],
             [
              0.6666666666666666,
              "#ed7953"
             ],
             [
              0.7777777777777778,
              "#fb9f3a"
             ],
             [
              0.8888888888888888,
              "#fdca26"
             ],
             [
              1.0,
              "#f0f921"
             ]
            ],
            "type": "histogram2d"
           }
          ],
          "histogram2dcontour": [
           {
            "colorbar": {
             "outlinewidth": 0,
             "ticks": ""
            },
            "colorscale": [
             [
              0.0,
              "#0d0887"
             ],
             [
              0.1111111111111111,
              "#46039f"
             ],
             [
              0.2222222222222222,
              "#7201a8"
             ],
             [
              0.3333333333333333,
              "#9c179e"
             ],
             [
              0.4444444444444444,
              "#bd3786"
             ],
             [
              0.5555555555555556,
              "#d8576b"
             ],
             [
              0.6666666666666666,
              "#ed7953"
             ],
             [
              0.7777777777777778,
              "#fb9f3a"
             ],
             [
              0.8888888888888888,
              "#fdca26"
             ],
             [
              1.0,
              "#f0f921"
             ]
            ],
            "type": "histogram2dcontour"
           }
          ],
          "mesh3d": [
           {
            "colorbar": {
             "outlinewidth": 0,
             "ticks": ""
            },
            "type": "mesh3d"
           }
          ],
          "parcoords": [
           {
            "line": {
             "colorbar": {
              "outlinewidth": 0,
              "ticks": ""
             }
            },
            "type": "parcoords"
           }
          ],
          "pie": [
           {
            "automargin": true,
            "type": "pie"
           }
          ],
          "scatter": [
           {
            "marker": {
             "colorbar": {
              "outlinewidth": 0,
              "ticks": ""
             }
            },
            "type": "scatter"
           }
          ],
          "scatter3d": [
           {
            "line": {
             "colorbar": {
              "outlinewidth": 0,
              "ticks": ""
             }
            },
            "marker": {
             "colorbar": {
              "outlinewidth": 0,
              "ticks": ""
             }
            },
            "type": "scatter3d"
           }
          ],
          "scattercarpet": [
           {
            "marker": {
             "colorbar": {
              "outlinewidth": 0,
              "ticks": ""
             }
            },
            "type": "scattercarpet"
           }
          ],
          "scattergeo": [
           {
            "marker": {
             "colorbar": {
              "outlinewidth": 0,
              "ticks": ""
             }
            },
            "type": "scattergeo"
           }
          ],
          "scattergl": [
           {
            "marker": {
             "colorbar": {
              "outlinewidth": 0,
              "ticks": ""
             }
            },
            "type": "scattergl"
           }
          ],
          "scattermapbox": [
           {
            "marker": {
             "colorbar": {
              "outlinewidth": 0,
              "ticks": ""
             }
            },
            "type": "scattermapbox"
           }
          ],
          "scatterpolar": [
           {
            "marker": {
             "colorbar": {
              "outlinewidth": 0,
              "ticks": ""
             }
            },
            "type": "scatterpolar"
           }
          ],
          "scatterpolargl": [
           {
            "marker": {
             "colorbar": {
              "outlinewidth": 0,
              "ticks": ""
             }
            },
            "type": "scatterpolargl"
           }
          ],
          "scatterternary": [
           {
            "marker": {
             "colorbar": {
              "outlinewidth": 0,
              "ticks": ""
             }
            },
            "type": "scatterternary"
           }
          ],
          "surface": [
           {
            "colorbar": {
             "outlinewidth": 0,
             "ticks": ""
            },
            "colorscale": [
             [
              0.0,
              "#0d0887"
             ],
             [
              0.1111111111111111,
              "#46039f"
             ],
             [
              0.2222222222222222,
              "#7201a8"
             ],
             [
              0.3333333333333333,
              "#9c179e"
             ],
             [
              0.4444444444444444,
              "#bd3786"
             ],
             [
              0.5555555555555556,
              "#d8576b"
             ],
             [
              0.6666666666666666,
              "#ed7953"
             ],
             [
              0.7777777777777778,
              "#fb9f3a"
             ],
             [
              0.8888888888888888,
              "#fdca26"
             ],
             [
              1.0,
              "#f0f921"
             ]
            ],
            "type": "surface"
           }
          ],
          "table": [
           {
            "cells": {
             "fill": {
              "color": "#EBF0F8"
             },
             "line": {
              "color": "white"
             }
            },
            "header": {
             "fill": {
              "color": "#C8D4E3"
             },
             "line": {
              "color": "white"
             }
            },
            "type": "table"
           }
          ]
         },
         "layout": {
          "annotationdefaults": {
           "arrowcolor": "#2a3f5f",
           "arrowhead": 0,
           "arrowwidth": 1
          },
          "autotypenumbers": "strict",
          "coloraxis": {
           "colorbar": {
            "outlinewidth": 0,
            "ticks": ""
           }
          },
          "colorscale": {
           "diverging": [
            [
             0,
             "#8e0152"
            ],
            [
             0.1,
             "#c51b7d"
            ],
            [
             0.2,
             "#de77ae"
            ],
            [
             0.3,
             "#f1b6da"
            ],
            [
             0.4,
             "#fde0ef"
            ],
            [
             0.5,
             "#f7f7f7"
            ],
            [
             0.6,
             "#e6f5d0"
            ],
            [
             0.7,
             "#b8e186"
            ],
            [
             0.8,
             "#7fbc41"
            ],
            [
             0.9,
             "#4d9221"
            ],
            [
             1,
             "#276419"
            ]
           ],
           "sequential": [
            [
             0.0,
             "#0d0887"
            ],
            [
             0.1111111111111111,
             "#46039f"
            ],
            [
             0.2222222222222222,
             "#7201a8"
            ],
            [
             0.3333333333333333,
             "#9c179e"
            ],
            [
             0.4444444444444444,
             "#bd3786"
            ],
            [
             0.5555555555555556,
             "#d8576b"
            ],
            [
             0.6666666666666666,
             "#ed7953"
            ],
            [
             0.7777777777777778,
             "#fb9f3a"
            ],
            [
             0.8888888888888888,
             "#fdca26"
            ],
            [
             1.0,
             "#f0f921"
            ]
           ],
           "sequentialminus": [
            [
             0.0,
             "#0d0887"
            ],
            [
             0.1111111111111111,
             "#46039f"
            ],
            [
             0.2222222222222222,
             "#7201a8"
            ],
            [
             0.3333333333333333,
             "#9c179e"
            ],
            [
             0.4444444444444444,
             "#bd3786"
            ],
            [
             0.5555555555555556,
             "#d8576b"
            ],
            [
             0.6666666666666666,
             "#ed7953"
            ],
            [
             0.7777777777777778,
             "#fb9f3a"
            ],
            [
             0.8888888888888888,
             "#fdca26"
            ],
            [
             1.0,
             "#f0f921"
            ]
           ]
          },
          "colorway": [
           "#636efa",
           "#EF553B",
           "#00cc96",
           "#ab63fa",
           "#FFA15A",
           "#19d3f3",
           "#FF6692",
           "#B6E880",
           "#FF97FF",
           "#FECB52"
          ],
          "font": {
           "color": "#2a3f5f"
          },
          "geo": {
           "bgcolor": "white",
           "lakecolor": "white",
           "landcolor": "#E5ECF6",
           "showlakes": true,
           "showland": true,
           "subunitcolor": "white"
          },
          "hoverlabel": {
           "align": "left"
          },
          "hovermode": "closest",
          "mapbox": {
           "style": "light"
          },
          "paper_bgcolor": "white",
          "plot_bgcolor": "#E5ECF6",
          "polar": {
           "angularaxis": {
            "gridcolor": "white",
            "linecolor": "white",
            "ticks": ""
           },
           "bgcolor": "#E5ECF6",
           "radialaxis": {
            "gridcolor": "white",
            "linecolor": "white",
            "ticks": ""
           }
          },
          "scene": {
           "xaxis": {
            "backgroundcolor": "#E5ECF6",
            "gridcolor": "white",
            "gridwidth": 2,
            "linecolor": "white",
            "showbackground": true,
            "ticks": "",
            "zerolinecolor": "white"
           },
           "yaxis": {
            "backgroundcolor": "#E5ECF6",
            "gridcolor": "white",
            "gridwidth": 2,
            "linecolor": "white",
            "showbackground": true,
            "ticks": "",
            "zerolinecolor": "white"
           },
           "zaxis": {
            "backgroundcolor": "#E5ECF6",
            "gridcolor": "white",
            "gridwidth": 2,
            "linecolor": "white",
            "showbackground": true,
            "ticks": "",
            "zerolinecolor": "white"
           }
          },
          "shapedefaults": {
           "line": {
            "color": "#2a3f5f"
           }
          },
          "ternary": {
           "aaxis": {
            "gridcolor": "white",
            "linecolor": "white",
            "ticks": ""
           },
           "baxis": {
            "gridcolor": "white",
            "linecolor": "white",
            "ticks": ""
           },
           "bgcolor": "#E5ECF6",
           "caxis": {
            "gridcolor": "white",
            "linecolor": "white",
            "ticks": ""
           }
          },
          "title": {
           "x": 0.05
          },
          "xaxis": {
           "automargin": true,
           "gridcolor": "white",
           "linecolor": "white",
           "ticks": "",
           "title": {
            "standoff": 15
           },
           "zerolinecolor": "white",
           "zerolinewidth": 2
          },
          "yaxis": {
           "automargin": true,
           "gridcolor": "white",
           "linecolor": "white",
           "ticks": "",
           "title": {
            "standoff": 15
           },
           "zerolinecolor": "white",
           "zerolinewidth": 2
          }
         }
        },
        "width": 900
       }
      },
      "text/html": "<div>                            <div id=\"f1242e6d-66e4-4bd4-9642-4551a63a3301\" class=\"plotly-graph-div\" style=\"height:500px; width:900px;\"></div>            <script type=\"text/javascript\">                require([\"plotly\"], function(Plotly) {                    window.PLOTLYENV=window.PLOTLYENV || {};                                    if (document.getElementById(\"f1242e6d-66e4-4bd4-9642-4551a63a3301\")) {                    Plotly.newPlot(                        \"f1242e6d-66e4-4bd4-9642-4551a63a3301\",                        [{\"facecolor\":[\"rgb(177,213,231)\",\"rgb(109,2,32)\",\"rgb(251,230,218)\",\"rgb(246,177,145)\",\"rgb(250,232,222)\",\"rgb(252,215,194)\",\"rgb(249,239,233)\",\"rgb(225,120,96)\",\"rgb(174,23,42)\",\"rgb(244,166,131)\",\"rgb(226,123,98)\",\"rgb(174,23,42)\",\"rgb(177,24,43)\",\"rgb(245,170,137)\",\"rgb(220,110,87)\",\"rgb(239,153,121)\",\"rgb(216,233,241)\",\"rgb(213,231,241)\",\"rgb(167,208,228)\",\"rgb(197,223,236)\",\"rgb(221,235,242)\",\"rgb(230,239,244)\",\"rgb(247,245,244)\",\"rgb(252,226,210)\",\"rgb(218,233,242)\",\"rgb(225,237,243)\",\"rgb(192,220,235)\",\"rgb(157,203,225)\",\"rgb(79,155,199)\",\"rgb(82,157,200)\",\"rgb(113,176,211)\",\"rgb(165,206,227)\",\"rgb(249,237,229)\",\"rgb(250,233,223)\",\"rgb(219,234,242)\",\"rgb(230,239,244)\",\"rgb(249,237,229)\",\"rgb(249,238,231)\",\"rgb(215,232,241)\",\"rgb(192,220,235)\",\"rgb(76,153,198)\",\"rgb(169,209,229)\",\"rgb(82,157,200)\",\"rgb(5,48,97)\",\"rgb(66,145,194)\",\"rgb(179,214,232)\",\"rgb(249,235,227)\",\"rgb(177,213,231)\",\"rgb(230,239,244)\",\"rgb(172,210,229)\",\"rgb(184,216,233)\",\"rgb(194,221,236)\",\"rgb(169,209,229)\",\"rgb(104,171,208)\",\"rgb(107,172,209)\",\"rgb(155,201,224)\",\"rgb(249,237,229)\",\"rgb(229,131,104)\",\"rgb(250,234,225)\",\"rgb(250,232,222)\",\"rgb(249,235,227)\",\"rgb(199,224,237)\",\"rgb(60,138,190)\",\"rgb(44,117,180)\",\"rgb(245,246,247)\",\"rgb(252,226,210)\",\"rgb(117,178,212)\",\"rgb(135,190,218)\",\"rgb(24,84,147)\",\"rgb(79,155,199)\",\"rgb(64,143,193)\",\"rgb(209,229,240)\",\"rgb(113,176,211)\",\"rgb(230,239,244)\",\"rgb(250,234,225)\",\"rgb(245,170,137)\",\"rgb(192,220,235)\",\"rgb(162,205,227)\",\"rgb(213,231,241)\",\"rgb(216,233,241)\",\"rgb(92,163,203)\",\"rgb(79,155,199)\",\"rgb(138,192,219)\",\"rgb(162,205,227)\",\"rgb(129,186,216)\",\"rgb(207,228,239)\",\"rgb(246,177,145)\",\"rgb(252,215,194)\",\"rgb(232,137,108)\",\"rgb(228,238,244)\",\"rgb(227,237,243)\",\"rgb(252,211,188)\",\"rgb(250,233,223)\",\"rgb(250,232,222)\",\"rgb(248,244,242)\",\"rgb(252,226,210)\",\"rgb(167,208,228)\",\"rgb(132,188,217)\",\"rgb(240,244,246)\",\"rgb(189,219,234)\",\"rgb(243,245,246)\",\"rgb(246,179,148)\",\"rgb(249,238,231)\",\"rgb(229,131,104)\",\"rgb(251,206,183)\",\"rgb(251,208,185)\",\"rgb(251,228,214)\",\"rgb(250,234,225)\",\"rgb(247,183,153)\",\"rgb(191,51,56)\",\"rgb(249,237,229)\",\"rgb(216,233,241)\",\"rgb(167,208,228)\",\"rgb(248,241,237)\",\"rgb(212,230,241)\",\"rgb(246,177,145)\",\"rgb(218,233,242)\",\"rgb(247,181,150)\",\"rgb(200,68,64)\",\"rgb(245,168,134)\",\"rgb(103,0,31)\",\"rgb(240,156,123)\",\"rgb(201,71,65)\",\"rgb(240,156,123)\",\"rgb(235,145,114)\",\"rgb(241,158,125)\",\"rgb(234,142,112)\",\"rgb(249,196,169)\",\"rgb(203,73,66)\",\"rgb(206,79,69)\",\"rgb(240,156,123)\",\"rgb(251,228,214)\",\"rgb(251,228,214)\",\"rgb(222,115,92)\",\"rgb(218,233,242)\",\"rgb(251,228,214)\",\"rgb(248,189,161)\",\"rgb(229,131,104)\",\"rgb(249,240,235)\",\"rgb(250,200,175)\",\"rgb(250,234,225)\",\"rgb(218,233,242)\",\"rgb(63,142,192)\",\"rgb(120,180,213)\",\"rgb(199,224,237)\",\"rgb(62,140,191)\",\"rgb(207,228,239)\",\"rgb(184,216,233)\",\"rgb(67,147,195)\",\"rgb(160,204,226)\",\"rgb(157,203,225)\",\"rgb(155,201,224)\",\"rgb(165,206,227)\",\"rgb(123,182,214)\",\"rgb(138,192,219)\",\"rgb(70,149,196)\",\"rgb(129,186,216)\",\"rgb(82,157,200)\",\"rgb(182,215,232)\",\"rgb(192,220,235)\",\"rgb(177,213,231)\",\"rgb(210,230,240)\",\"rgb(141,194,220)\",\"rgb(54,129,186)\",\"rgb(210,88,73)\",\"rgb(196,59,60)\",\"rgb(194,56,58)\",\"rgb(216,101,81)\",\"rgb(230,134,106)\",\"rgb(247,185,156)\",\"rgb(197,62,61)\",\"rgb(194,56,58)\",\"rgb(245,168,134)\",\"rgb(227,126,100)\",\"rgb(228,128,102)\",\"rgb(246,247,247)\",\"rgb(252,226,210)\",\"rgb(245,170,137)\",\"rgb(220,110,87)\",\"rgb(247,181,150)\",\"rgb(245,246,247)\",\"rgb(251,227,212)\",\"rgb(16,69,126)\",\"rgb(36,106,174)\",\"rgb(218,233,242)\",\"rgb(215,232,241)\",\"rgb(157,203,225)\",\"rgb(194,221,236)\",\"rgb(248,243,240)\",\"rgb(252,223,207)\",\"rgb(248,243,240)\",\"rgb(253,217,196)\",\"rgb(252,211,188)\",\"rgb(248,189,161)\",\"rgb(219,107,85)\",\"rgb(193,54,57)\",\"rgb(225,237,243)\",\"rgb(113,176,211)\",\"rgb(177,213,231)\",\"rgb(215,232,241)\",\"rgb(247,185,156)\",\"rgb(249,237,229)\",\"rgb(224,236,243)\",\"rgb(248,243,240)\",\"rgb(251,229,216)\",\"rgb(210,230,240)\",\"rgb(229,131,104)\",\"rgb(247,185,156)\",\"rgb(209,229,240)\",\"rgb(253,219,199)\",\"rgb(248,241,237)\",\"rgb(225,120,96)\",\"rgb(248,241,237)\",\"rgb(249,239,233)\",\"rgb(240,156,123)\",\"rgb(250,232,222)\",\"rgb(110,174,210)\",\"rgb(167,208,228)\",\"rgb(54,129,186)\",\"rgb(129,186,216)\",\"rgb(237,242,245)\",\"rgb(253,219,199)\",\"rgb(251,204,180)\",\"rgb(246,177,145)\",\"rgb(221,235,242)\",\"rgb(234,241,245)\",\"rgb(245,168,134)\",\"rgb(222,115,92)\",\"rgb(241,158,125)\",\"rgb(215,99,79)\",\"rgb(235,145,114)\",\"rgb(222,115,92)\",\"rgb(210,230,240)\",\"rgb(82,157,200)\",\"rgb(172,210,229)\",\"rgb(222,235,242)\",\"rgb(233,240,244)\",\"rgb(236,242,245)\",\"rgb(252,211,188)\",\"rgb(249,235,227)\",\"rgb(248,241,237)\",\"rgb(249,238,231)\",\"rgb(253,219,199)\",\"rgb(250,200,175)\",\"rgb(169,209,229)\",\"rgb(172,210,229)\",\"rgb(202,225,238)\",\"rgb(234,241,245)\",\"rgb(229,131,104)\",\"rgb(200,68,64)\",\"rgb(180,28,45)\",\"rgb(225,120,96)\",\"rgb(247,246,246)\",\"rgb(252,215,194)\",\"rgb(249,194,167)\",\"rgb(239,153,121)\"],\"i\":[1,135,2,8,9,19,20,34,35,53,134,104,54,76,103,77,137,120,4,1,6,4,8,4,11,8,6,11,15,11,17,11,13,8,17,13,19,13,106,120,106,91,79,91,79,66,24,19,17,24,17,22,15,22,28,22,30,24,30,22,56,66,56,45,37,30,28,37,37,45,47,37,56,47,39,30,47,39,56,68,79,68,47,58,68,58,39,32,32,24,26,19,32,26,34,26,58,49,39,49,41,34,32,41,49,41,51,41,43,34,51,43,53,43,151,134,134,149,134,118,118,132,132,149,132,147,53,64,76,64,132,116,118,103,103,116,76,89,103,89,68,81,79,93,106,93,93,81,106,122,137,122,139,122,93,108,108,122,124,108,139,124,141,124,89,101,101,116,76,87,87,101,130,116,130,147,130,145,114,101,130,114,141,126,143,126,114,128,128,145,143,128,74,87,64,74,53,62,51,62,62,74,51,60,49,60,81,70,58,70,70,60,62,72,72,60,128,112,112,126,114,99,99,87,99,112,72,85,85,74,99,85,110,126,110,124,95,108,81,95,110,95,85,97,97,112,110,97,72,83,70,83,97,83,83,95],\"j\":[2,151,4,9,13,20,26,35,43,54,135,118,64,77,104,89,120,137,1,4,4,6,4,8,8,11,11,6,11,15,11,17,8,13,13,17,13,19,120,106,91,106,91,79,66,79,19,24,24,17,22,17,22,15,22,28,24,30,22,30,66,56,45,56,30,37,37,28,45,37,37,47,47,56,30,39,39,47,68,56,68,79,58,47,58,68,32,39,24,32,19,26,26,32,26,34,49,58,49,39,34,41,41,32,41,49,41,51,34,43,43,51,43,53,134,151,149,134,118,134,132,118,149,132,147,132,64,53,64,76,116,132,103,118,116,103,89,76,89,103,81,68,93,79,93,106,81,93,122,106,122,137,122,139,108,93,122,108,108,124,124,139,124,141,101,89,116,101,87,76,101,87,116,130,147,130,145,130,101,114,114,130,126,141,126,143,128,114,145,128,128,143,87,74,74,64,62,53,62,51,74,62,60,51,60,49,70,81,70,58,60,70,72,62,60,72,112,128,126,112,99,114,87,99,112,99,85,72,74,85,85,99,126,110,124,110,108,95,95,81,95,110,97,85,112,97,97,110,83,72,83,70,83,97,95,83],\"k\":[0,152,5,5,14,14,27,27,44,44,119,119,65,65,90,90,136,121,3,2,3,7,7,5,7,12,7,10,10,16,16,12,12,9,12,18,18,14,121,105,105,92,92,78,78,67,18,25,18,23,23,16,16,21,21,29,23,31,29,23,67,55,55,46,29,38,29,36,46,36,46,38,46,57,38,31,38,48,57,67,67,80,48,57,57,69,31,40,31,25,25,20,25,33,33,27,48,59,40,48,33,42,33,40,40,50,50,42,42,35,42,52,52,44,150,135,150,133,133,119,133,117,133,148,148,131,54,63,75,65,131,117,117,104,117,102,77,88,102,90,69,80,80,92,92,107,80,94,107,121,121,138,138,123,94,107,123,107,123,109,123,140,140,125,102,88,102,115,88,75,88,100,115,131,131,146,146,129,100,115,129,115,125,142,142,127,129,113,129,144,127,144,75,86,75,63,63,52,52,61,63,73,61,50,50,59,69,82,59,69,59,71,73,61,71,61,127,113,127,111,113,100,86,100,113,98,73,84,73,86,98,86,111,125,125,109,109,94,82,94,109,96,98,84,98,111,96,111,84,71,71,82,96,84,96,82],\"type\":\"mesh3d\",\"x\":[10,15,15,20,20,20,25,25,25,25,30,30,30,30,30,35,35,35,35,35,35,40,40,40,40,40,40,40,45,45,45,45,45,45,45,45,50,50,50,50,50,50,50,50,50,55,55,55,55,55,55,55,55,55,55,60,60,60,60,60,60,60,60,60,60,60,65,65,65,65,65,65,65,65,65,65,65,65,70,70,70,70,70,70,70,70,70,70,70,70,70,75,75,75,75,75,75,75,75,75,75,75,75,75,75,80,80,80,80,80,80,80,80,80,80,80,80,80,80,80,85,85,85,85,85,85,85,85,85,85,85,85,85,85,85,85,90,90,90,90,90,90,90,90,90,90,90,90,90,90,90,90,90],\"y\":[5,5,10,5,10,15,5,10,15,20,5,10,15,20,25,5,10,15,20,25,30,5,10,15,20,25,30,35,5,10,15,20,25,30,35,40,5,10,15,20,25,30,35,40,45,5,10,15,20,25,30,35,40,45,50,5,10,15,20,25,30,35,40,45,50,55,5,10,15,20,25,30,35,40,45,50,55,60,5,10,15,20,25,30,35,40,45,50,55,60,65,5,10,15,20,25,30,35,40,45,50,55,60,65,70,5,10,15,20,25,30,35,40,45,50,55,60,65,70,75,5,10,15,20,25,30,35,40,45,50,55,60,65,70,75,80,5,10,15,20,25,30,35,40,45,50,55,60,65,70,75,80,85],\"z\":[0.5809321999549866,0.6260037422180176,0.010016560554504395,0.2153456211090088,0.4482179880142212,-0.205327570438385,0.1777857542037964,0.115184485912323,-0.05759149789810181,-0.0250399112701416,0.373096764087677,0.8163079619407654,0.03255307674407959,0.380609929561615,-0.06760656833648682,0.6410270929336548,0.3555700182914734,0.4557311534881592,-0.0926479697227478,0.07011443376541138,0.0250399112701416,0.771234929561615,0.282953679561615,0.4356980323791504,0.3680884838104248,0.7887616753578186,-0.09014308452606201,0.4607394337654114,0.6159856915473938,0.4807710647583008,-0.4381999373435974,-0.5458727478981018,-0.3981366753578186,0.7737383246421814,-0.1978158950805664,-0.9565293788909912,0.3756001591682434,0.513322651386261,0.10516941547393799,0.6460323929786682,-0.2078324556350708,-0.0075116753578186035,-0.0651046633720398,0.020031630992889404,-0.3981351852416992,0.939004123210907,1.0717183351516724,0.3605782985687256,0.320512056350708,0.1702725887298584,-0.1878008246421814,0.4006430506706238,0.4757612943649292,0.8062899112701416,-0.7837548851966858,0.8438512682914734,0.20533055067062378,0.16526579856872559,0.8087947964668274,0.5433708429336548,0.247897207736969,0.1602575182914734,0.3455549478530884,-0.3705918788909912,-0.5684077739715576,0.0300481915473938,0.017528235912322998,0.115184485912323,0.568409264087677,-0.3806069493293762,-0.3580719232559204,-0.578424334526062,-0.12019127607345581,0.202825665473938,-0.1878008246421814,-0.0125199556350708,-0.418168306350708,0.035056471824645996,0.8313298225402832,1.0767251253128052,0.1827925443649292,0.13021081686019897,0.007513165473937988,-0.338040292263031,-0.1577511429786682,-0.453224778175354,-0.1978158950805664,0.20533055067062378,-0.3856152296066284,0.1978173851966858,-0.7086321711540222,0.9239792823791504,-0.17778277397155762,0.6936103105545044,0.345553457736969,-0.142727792263031,0.3405466675758362,0.5258411169052124,-0.01001507043838501,-0.0676080584526062,-0.4231765866279602,-0.888921320438385,-0.2128392457962036,0.418168306350708,-0.4682496190071106,0.3981366753578186,0.5358576774597168,0.743691623210907,0.4557311534881592,0.3906264901161194,0.1727774739265442,-0.020031630992889404,0.7512018084526062,0.1602575182914734,0.5608990788459778,0.06510615348815918,0.0075116753578186035,0.4557296633720398,-0.6660640239715576,-0.20282268524169922,0.185297429561615,0.185297429561615,0.620993971824646,0.470753014087677,0.2629205584526062,0.8263230323791504,0.8163079619407654,0.5183294415473938,0.3781065344810486,0.4281863570213318,-0.4306897521018982,-0.2203524112701416,-0.2453923225402832,-0.8638814091682434,0.5008012056350708,-0.9740576148033142,0.1552492380142212,0.5634024739265442,0.202825665473938,0.4957929253578186,0.2078324556350708,1.0016024112701416,0.4932895302772522,-0.4231765866279602,0.09515434503555298,-0.338040292263031,0.949019193649292,0.0250399112701416,-0.3130003809928894,0.10516941547393799,0.2754420042037964,0.1802891492843628,-0.9314894676208496]},{\"colorscale\":[[0.0,\"rgb(103,0,31)\"],[0.1,\"rgb(178,24,43)\"],[0.2,\"rgb(214,96,77)\"],[0.3,\"rgb(244,165,130)\"],[0.4,\"rgb(253,219,199)\"],[0.5,\"rgb(247,247,247)\"],[0.6,\"rgb(209,229,240)\"],[0.7,\"rgb(146,197,222)\"],[0.8,\"rgb(67,147,195)\"],[0.9,\"rgb(33,102,172)\"],[1.0,\"rgb(5,48,97)\"]],\"opacity\":0.25,\"type\":\"surface\",\"x\":[[10.0,30.0,50.0,70.0,90.0],[10.0,30.0,50.0,70.0,90.0],[10.0,30.0,50.0,70.0,90.0],[10.0,30.0,50.0,70.0,90.0],[10.0,30.0,50.0,70.0,90.0]],\"y\":[[5.0,5.0,5.0,5.0,5.0],[25.0,25.0,25.0,25.0,25.0],[45.0,45.0,45.0,45.0,45.0],[65.0,65.0,65.0,65.0,65.0],[85.0,85.0,85.0,85.0,85.0]],\"z\":[[0.2271937342866164,0.32845734781033,0.4297209613340435,0.5309845748577571,0.6322481883814707],[-0.031341746126535064,0.06992186739717848,0.17118548092089203,0.27244909444460563,0.3737127079683192],[-0.28987722653968667,-0.18861361301597307,-0.08734999949225952,0.01391361403145408,0.11517722755516763],[-0.5484127069528382,-0.4471490934291245,-0.3458854799054109,-0.24462186638169736,-0.14335825285798381],[-0.8069481873659896,-0.7056845738422759,-0.6044209603185624,-0.5031573467948489,-0.40189373327113526]]}],                        {\"height\":500,\"margin\":{\"b\":0,\"l\":0,\"r\":0,\"t\":0},\"scene\":{\"aspectratio\":{\"x\":1,\"y\":1,\"z\":0.5},\"xaxis\":{\"backgroundcolor\":\"rgb(230, 230,230)\",\"gridcolor\":\"rgb(255, 255, 255)\",\"showbackground\":true,\"title\":{\"text\":\"Tournament Size\"},\"zerolinecolor\":\"rgb(255, 255, 255)\"},\"yaxis\":{\"backgroundcolor\":\"rgb(230, 230,230)\",\"gridcolor\":\"rgb(255, 255, 255)\",\"showbackground\":true,\"title\":{\"text\":\"Top N\"},\"zerolinecolor\":\"rgb(255, 255, 255)\"},\"zaxis\":{\"backgroundcolor\":\"rgb(230, 230,230)\",\"gridcolor\":\"rgb(255, 255, 255)\",\"showbackground\":true,\"title\":{\"text\":\"Accuracy vs. Greedy (%)\"},\"zerolinecolor\":\"rgb(255, 255, 255)\"}},\"template\":{\"data\":{\"bar\":[{\"error_x\":{\"color\":\"#2a3f5f\"},\"error_y\":{\"color\":\"#2a3f5f\"},\"marker\":{\"line\":{\"color\":\"#E5ECF6\",\"width\":0.5},\"pattern\":{\"fillmode\":\"overlay\",\"size\":10,\"solidity\":0.2}},\"type\":\"bar\"}],\"barpolar\":[{\"marker\":{\"line\":{\"color\":\"#E5ECF6\",\"width\":0.5},\"pattern\":{\"fillmode\":\"overlay\",\"size\":10,\"solidity\":0.2}},\"type\":\"barpolar\"}],\"carpet\":[{\"aaxis\":{\"endlinecolor\":\"#2a3f5f\",\"gridcolor\":\"white\",\"linecolor\":\"white\",\"minorgridcolor\":\"white\",\"startlinecolor\":\"#2a3f5f\"},\"baxis\":{\"endlinecolor\":\"#2a3f5f\",\"gridcolor\":\"white\",\"linecolor\":\"white\",\"minorgridcolor\":\"white\",\"startlinecolor\":\"#2a3f5f\"},\"type\":\"carpet\"}],\"choropleth\":[{\"colorbar\":{\"outlinewidth\":0,\"ticks\":\"\"},\"type\":\"choropleth\"}],\"contour\":[{\"colorbar\":{\"outlinewidth\":0,\"ticks\":\"\"},\"colorscale\":[[0.0,\"#0d0887\"],[0.1111111111111111,\"#46039f\"],[0.2222222222222222,\"#7201a8\"],[0.3333333333333333,\"#9c179e\"],[0.4444444444444444,\"#bd3786\"],[0.5555555555555556,\"#d8576b\"],[0.6666666666666666,\"#ed7953\"],[0.7777777777777778,\"#fb9f3a\"],[0.8888888888888888,\"#fdca26\"],[1.0,\"#f0f921\"]],\"type\":\"contour\"}],\"contourcarpet\":[{\"colorbar\":{\"outlinewidth\":0,\"ticks\":\"\"},\"type\":\"contourcarpet\"}],\"heatmap\":[{\"colorbar\":{\"outlinewidth\":0,\"ticks\":\"\"},\"colorscale\":[[0.0,\"#0d0887\"],[0.1111111111111111,\"#46039f\"],[0.2222222222222222,\"#7201a8\"],[0.3333333333333333,\"#9c179e\"],[0.4444444444444444,\"#bd3786\"],[0.5555555555555556,\"#d8576b\"],[0.6666666666666666,\"#ed7953\"],[0.7777777777777778,\"#fb9f3a\"],[0.8888888888888888,\"#fdca26\"],[1.0,\"#f0f921\"]],\"type\":\"heatmap\"}],\"heatmapgl\":[{\"colorbar\":{\"outlinewidth\":0,\"ticks\":\"\"},\"colorscale\":[[0.0,\"#0d0887\"],[0.1111111111111111,\"#46039f\"],[0.2222222222222222,\"#7201a8\"],[0.3333333333333333,\"#9c179e\"],[0.4444444444444444,\"#bd3786\"],[0.5555555555555556,\"#d8576b\"],[0.6666666666666666,\"#ed7953\"],[0.7777777777777778,\"#fb9f3a\"],[0.8888888888888888,\"#fdca26\"],[1.0,\"#f0f921\"]],\"type\":\"heatmapgl\"}],\"histogram\":[{\"marker\":{\"pattern\":{\"fillmode\":\"overlay\",\"size\":10,\"solidity\":0.2}},\"type\":\"histogram\"}],\"histogram2d\":[{\"colorbar\":{\"outlinewidth\":0,\"ticks\":\"\"},\"colorscale\":[[0.0,\"#0d0887\"],[0.1111111111111111,\"#46039f\"],[0.2222222222222222,\"#7201a8\"],[0.3333333333333333,\"#9c179e\"],[0.4444444444444444,\"#bd3786\"],[0.5555555555555556,\"#d8576b\"],[0.6666666666666666,\"#ed7953\"],[0.7777777777777778,\"#fb9f3a\"],[0.8888888888888888,\"#fdca26\"],[1.0,\"#f0f921\"]],\"type\":\"histogram2d\"}],\"histogram2dcontour\":[{\"colorbar\":{\"outlinewidth\":0,\"ticks\":\"\"},\"colorscale\":[[0.0,\"#0d0887\"],[0.1111111111111111,\"#46039f\"],[0.2222222222222222,\"#7201a8\"],[0.3333333333333333,\"#9c179e\"],[0.4444444444444444,\"#bd3786\"],[0.5555555555555556,\"#d8576b\"],[0.6666666666666666,\"#ed7953\"],[0.7777777777777778,\"#fb9f3a\"],[0.8888888888888888,\"#fdca26\"],[1.0,\"#f0f921\"]],\"type\":\"histogram2dcontour\"}],\"mesh3d\":[{\"colorbar\":{\"outlinewidth\":0,\"ticks\":\"\"},\"type\":\"mesh3d\"}],\"parcoords\":[{\"line\":{\"colorbar\":{\"outlinewidth\":0,\"ticks\":\"\"}},\"type\":\"parcoords\"}],\"pie\":[{\"automargin\":true,\"type\":\"pie\"}],\"scatter\":[{\"marker\":{\"colorbar\":{\"outlinewidth\":0,\"ticks\":\"\"}},\"type\":\"scatter\"}],\"scatter3d\":[{\"line\":{\"colorbar\":{\"outlinewidth\":0,\"ticks\":\"\"}},\"marker\":{\"colorbar\":{\"outlinewidth\":0,\"ticks\":\"\"}},\"type\":\"scatter3d\"}],\"scattercarpet\":[{\"marker\":{\"colorbar\":{\"outlinewidth\":0,\"ticks\":\"\"}},\"type\":\"scattercarpet\"}],\"scattergeo\":[{\"marker\":{\"colorbar\":{\"outlinewidth\":0,\"ticks\":\"\"}},\"type\":\"scattergeo\"}],\"scattergl\":[{\"marker\":{\"colorbar\":{\"outlinewidth\":0,\"ticks\":\"\"}},\"type\":\"scattergl\"}],\"scattermapbox\":[{\"marker\":{\"colorbar\":{\"outlinewidth\":0,\"ticks\":\"\"}},\"type\":\"scattermapbox\"}],\"scatterpolar\":[{\"marker\":{\"colorbar\":{\"outlinewidth\":0,\"ticks\":\"\"}},\"type\":\"scatterpolar\"}],\"scatterpolargl\":[{\"marker\":{\"colorbar\":{\"outlinewidth\":0,\"ticks\":\"\"}},\"type\":\"scatterpolargl\"}],\"scatterternary\":[{\"marker\":{\"colorbar\":{\"outlinewidth\":0,\"ticks\":\"\"}},\"type\":\"scatterternary\"}],\"surface\":[{\"colorbar\":{\"outlinewidth\":0,\"ticks\":\"\"},\"colorscale\":[[0.0,\"#0d0887\"],[0.1111111111111111,\"#46039f\"],[0.2222222222222222,\"#7201a8\"],[0.3333333333333333,\"#9c179e\"],[0.4444444444444444,\"#bd3786\"],[0.5555555555555556,\"#d8576b\"],[0.6666666666666666,\"#ed7953\"],[0.7777777777777778,\"#fb9f3a\"],[0.8888888888888888,\"#fdca26\"],[1.0,\"#f0f921\"]],\"type\":\"surface\"}],\"table\":[{\"cells\":{\"fill\":{\"color\":\"#EBF0F8\"},\"line\":{\"color\":\"white\"}},\"header\":{\"fill\":{\"color\":\"#C8D4E3\"},\"line\":{\"color\":\"white\"}},\"type\":\"table\"}]},\"layout\":{\"annotationdefaults\":{\"arrowcolor\":\"#2a3f5f\",\"arrowhead\":0,\"arrowwidth\":1},\"autotypenumbers\":\"strict\",\"coloraxis\":{\"colorbar\":{\"outlinewidth\":0,\"ticks\":\"\"}},\"colorscale\":{\"diverging\":[[0,\"#8e0152\"],[0.1,\"#c51b7d\"],[0.2,\"#de77ae\"],[0.3,\"#f1b6da\"],[0.4,\"#fde0ef\"],[0.5,\"#f7f7f7\"],[0.6,\"#e6f5d0\"],[0.7,\"#b8e186\"],[0.8,\"#7fbc41\"],[0.9,\"#4d9221\"],[1,\"#276419\"]],\"sequential\":[[0.0,\"#0d0887\"],[0.1111111111111111,\"#46039f\"],[0.2222222222222222,\"#7201a8\"],[0.3333333333333333,\"#9c179e\"],[0.4444444444444444,\"#bd3786\"],[0.5555555555555556,\"#d8576b\"],[0.6666666666666666,\"#ed7953\"],[0.7777777777777778,\"#fb9f3a\"],[0.8888888888888888,\"#fdca26\"],[1.0,\"#f0f921\"]],\"sequentialminus\":[[0.0,\"#0d0887\"],[0.1111111111111111,\"#46039f\"],[0.2222222222222222,\"#7201a8\"],[0.3333333333333333,\"#9c179e\"],[0.4444444444444444,\"#bd3786\"],[0.5555555555555556,\"#d8576b\"],[0.6666666666666666,\"#ed7953\"],[0.7777777777777778,\"#fb9f3a\"],[0.8888888888888888,\"#fdca26\"],[1.0,\"#f0f921\"]]},\"colorway\":[\"#636efa\",\"#EF553B\",\"#00cc96\",\"#ab63fa\",\"#FFA15A\",\"#19d3f3\",\"#FF6692\",\"#B6E880\",\"#FF97FF\",\"#FECB52\"],\"font\":{\"color\":\"#2a3f5f\"},\"geo\":{\"bgcolor\":\"white\",\"lakecolor\":\"white\",\"landcolor\":\"#E5ECF6\",\"showlakes\":true,\"showland\":true,\"subunitcolor\":\"white\"},\"hoverlabel\":{\"align\":\"left\"},\"hovermode\":\"closest\",\"mapbox\":{\"style\":\"light\"},\"paper_bgcolor\":\"white\",\"plot_bgcolor\":\"#E5ECF6\",\"polar\":{\"angularaxis\":{\"gridcolor\":\"white\",\"linecolor\":\"white\",\"ticks\":\"\"},\"bgcolor\":\"#E5ECF6\",\"radialaxis\":{\"gridcolor\":\"white\",\"linecolor\":\"white\",\"ticks\":\"\"}},\"scene\":{\"xaxis\":{\"backgroundcolor\":\"#E5ECF6\",\"gridcolor\":\"white\",\"gridwidth\":2,\"linecolor\":\"white\",\"showbackground\":true,\"ticks\":\"\",\"zerolinecolor\":\"white\"},\"yaxis\":{\"backgroundcolor\":\"#E5ECF6\",\"gridcolor\":\"white\",\"gridwidth\":2,\"linecolor\":\"white\",\"showbackground\":true,\"ticks\":\"\",\"zerolinecolor\":\"white\"},\"zaxis\":{\"backgroundcolor\":\"#E5ECF6\",\"gridcolor\":\"white\",\"gridwidth\":2,\"linecolor\":\"white\",\"showbackground\":true,\"ticks\":\"\",\"zerolinecolor\":\"white\"}},\"shapedefaults\":{\"line\":{\"color\":\"#2a3f5f\"}},\"ternary\":{\"aaxis\":{\"gridcolor\":\"white\",\"linecolor\":\"white\",\"ticks\":\"\"},\"baxis\":{\"gridcolor\":\"white\",\"linecolor\":\"white\",\"ticks\":\"\"},\"bgcolor\":\"#E5ECF6\",\"caxis\":{\"gridcolor\":\"white\",\"linecolor\":\"white\",\"ticks\":\"\"}},\"title\":{\"x\":0.05},\"xaxis\":{\"automargin\":true,\"gridcolor\":\"white\",\"linecolor\":\"white\",\"ticks\":\"\",\"title\":{\"standoff\":15},\"zerolinecolor\":\"white\",\"zerolinewidth\":2},\"yaxis\":{\"automargin\":true,\"gridcolor\":\"white\",\"linecolor\":\"white\",\"ticks\":\"\",\"title\":{\"standoff\":15},\"zerolinecolor\":\"white\",\"zerolinewidth\":2}}},\"width\":900},                        {\"responsive\": true}                    ).then(function(){\n                            \nvar gd = document.getElementById('f1242e6d-66e4-4bd4-9642-4551a63a3301');\nvar x = new MutationObserver(function (mutations, observer) {{\n        var display = window.getComputedStyle(gd).display;\n        if (!display || display === 'none') {{\n            console.log([gd, 'removed!']);\n            Plotly.purge(gd);\n            observer.disconnect();\n        }}\n}});\n\n// Listen for the removal of the full notebook cells\nvar notebookContainer = gd.closest('#notebook-container');\nif (notebookContainer) {{\n    x.observe(notebookContainer, {childList: true});\n}}\n\n// Listen for the clearing of the current output cell\nvar outputEl = gd.closest('.output');\nif (outputEl) {{\n    x.observe(outputEl, {childList: true});\n}}\n\n                        })                };                });            </script>        </div>"
     },
     "metadata": {},
     "output_type": "display_data"
    }
   ],
   "source": [
    "figure = create_comparison_graph(\n",
    "    pd.DataFrame(data_median),\n",
    "    f\"Baseline - Select 5 Random + Drop 5 Greedy\",\n",
    "    color_scale='RdBu'\n",
    ")\n",
    "figure.show()"
   ],
   "metadata": {
    "collapsed": false,
    "pycharm": {
     "name": "#%%\n"
    }
   }
  },
  {
   "cell_type": "code",
   "execution_count": null,
   "outputs": [],
   "source": [],
   "metadata": {
    "collapsed": false,
    "pycharm": {
     "name": "#%%\n"
    }
   }
  }
 ],
 "metadata": {
  "kernelspec": {
   "display_name": "Python 3",
   "language": "python",
   "name": "python3"
  },
  "language_info": {
   "codemirror_mode": {
    "name": "ipython",
    "version": 2
   },
   "file_extension": ".py",
   "mimetype": "text/x-python",
   "name": "python",
   "nbconvert_exporter": "python",
   "pygments_lexer": "ipython2",
   "version": "2.7.6"
  }
 },
 "nbformat": 4,
 "nbformat_minor": 0
}